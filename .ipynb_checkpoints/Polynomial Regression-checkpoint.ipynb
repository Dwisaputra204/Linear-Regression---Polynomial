{
 "cells": [
  {
   "cell_type": "code",
   "execution_count": 1,
   "id": "d55ee624",
   "metadata": {},
   "outputs": [],
   "source": [
    "# import library\n",
    "import pandas as pd\n",
    "import numpy as np\n",
    "import matplotlib.pyplot as plt\n",
    "import seaborn as sns"
   ]
  },
  {
   "cell_type": "code",
   "execution_count": 2,
   "id": "6ad14e67",
   "metadata": {},
   "outputs": [],
   "source": [
    "# dataset\n",
    "data = {\n",
    "    'position' : ['Business Analyst', 'Junior Cosnultant', ' Senior Consultant', 'Manager', 'Country Manager', 'Region Manager', 'Partnership', 'Public Relation', 'C-Level', 'CEO'],\n",
    "    'Level' : [1, 2, 3, 4, 5, 6, 7, 8, 9, 10],\n",
    "    'Salary' : [45000, 50000, 60000, 80000, 110000, 160000, 200000, 300000, 500000, 1000000]\n",
    "}"
   ]
  },
  {
   "cell_type": "code",
   "execution_count": 6,
   "id": "69e71219",
   "metadata": {},
   "outputs": [
    {
     "data": {
      "text/html": [
       "<div>\n",
       "<style scoped>\n",
       "    .dataframe tbody tr th:only-of-type {\n",
       "        vertical-align: middle;\n",
       "    }\n",
       "\n",
       "    .dataframe tbody tr th {\n",
       "        vertical-align: top;\n",
       "    }\n",
       "\n",
       "    .dataframe thead th {\n",
       "        text-align: right;\n",
       "    }\n",
       "</style>\n",
       "<table border=\"1\" class=\"dataframe\">\n",
       "  <thead>\n",
       "    <tr style=\"text-align: right;\">\n",
       "      <th></th>\n",
       "      <th>position</th>\n",
       "      <th>Level</th>\n",
       "      <th>Salary</th>\n",
       "    </tr>\n",
       "  </thead>\n",
       "  <tbody>\n",
       "    <tr>\n",
       "      <th>0</th>\n",
       "      <td>Business Analyst</td>\n",
       "      <td>1</td>\n",
       "      <td>45000</td>\n",
       "    </tr>\n",
       "    <tr>\n",
       "      <th>1</th>\n",
       "      <td>Junior Cosnultant</td>\n",
       "      <td>2</td>\n",
       "      <td>50000</td>\n",
       "    </tr>\n",
       "    <tr>\n",
       "      <th>2</th>\n",
       "      <td>Senior Consultant</td>\n",
       "      <td>3</td>\n",
       "      <td>60000</td>\n",
       "    </tr>\n",
       "    <tr>\n",
       "      <th>3</th>\n",
       "      <td>Manager</td>\n",
       "      <td>4</td>\n",
       "      <td>80000</td>\n",
       "    </tr>\n",
       "    <tr>\n",
       "      <th>4</th>\n",
       "      <td>Country Manager</td>\n",
       "      <td>5</td>\n",
       "      <td>110000</td>\n",
       "    </tr>\n",
       "    <tr>\n",
       "      <th>5</th>\n",
       "      <td>Region Manager</td>\n",
       "      <td>6</td>\n",
       "      <td>160000</td>\n",
       "    </tr>\n",
       "    <tr>\n",
       "      <th>6</th>\n",
       "      <td>Partnership</td>\n",
       "      <td>7</td>\n",
       "      <td>200000</td>\n",
       "    </tr>\n",
       "    <tr>\n",
       "      <th>7</th>\n",
       "      <td>Public Relation</td>\n",
       "      <td>8</td>\n",
       "      <td>300000</td>\n",
       "    </tr>\n",
       "    <tr>\n",
       "      <th>8</th>\n",
       "      <td>C-Level</td>\n",
       "      <td>9</td>\n",
       "      <td>500000</td>\n",
       "    </tr>\n",
       "    <tr>\n",
       "      <th>9</th>\n",
       "      <td>CEO</td>\n",
       "      <td>10</td>\n",
       "      <td>1000000</td>\n",
       "    </tr>\n",
       "  </tbody>\n",
       "</table>\n",
       "</div>"
      ],
      "text/plain": [
       "             position  Level   Salary\n",
       "0    Business Analyst      1    45000\n",
       "1   Junior Cosnultant      2    50000\n",
       "2   Senior Consultant      3    60000\n",
       "3             Manager      4    80000\n",
       "4     Country Manager      5   110000\n",
       "5      Region Manager      6   160000\n",
       "6         Partnership      7   200000\n",
       "7     Public Relation      8   300000\n",
       "8             C-Level      9   500000\n",
       "9                 CEO     10  1000000"
      ]
     },
     "execution_count": 6,
     "metadata": {},
     "output_type": "execute_result"
    }
   ],
   "source": [
    "# Convert dict to dataframe\n",
    "df = pd.DataFrame(data)\n",
    "df"
   ]
  },
  {
   "cell_type": "code",
   "execution_count": 65,
   "id": "1b2db63c",
   "metadata": {},
   "outputs": [
    {
     "data": {
      "text/plain": [
       "<matplotlib.collections.PathCollection at 0x185c6b27be0>"
      ]
     },
     "execution_count": 65,
     "metadata": {},
     "output_type": "execute_result"
    },
    {
     "data": {
      "image/png": "[encoded data removed]",
      "text/plain": [
       "<Figure size 432x288 with 1 Axes>"
      ]
     },
     "metadata": {
      "needs_background": "light"
     },
     "output_type": "display_data"
    }
   ],
   "source": [
    "# visualisasi sebaran data\n",
    "plt.scatter(df['Level'],df['Salary'])"
   ]
  },
  {
   "cell_type": "code",
   "execution_count": 66,
   "id": "56da3b29",
   "metadata": {},
   "outputs": [],
   "source": [
    "# memisahkan feature dan target\n",
    "x = df['Level'].values.reshape(-1,1) # dilakukan reshape model membutuh data 2d\n",
    "y = df['Salary']"
   ]
  },
  {
   "cell_type": "code",
   "execution_count": 67,
   "id": "bca6dc10",
   "metadata": {},
   "outputs": [],
   "source": [
    "# import model linear regression\n",
    "from sklearn.linear_model import LinearRegression"
   ]
  },
  {
   "cell_type": "code",
   "execution_count": 68,
   "id": "a048f74a",
   "metadata": {},
   "outputs": [
    {
     "data": {
      "text/plain": [
       "LinearRegression()"
      ]
     },
     "execution_count": 68,
     "metadata": {},
     "output_type": "execute_result"
    }
   ],
   "source": [
    "# modelling\n",
    "lr = LinearRegression()\n",
    "lr.fit(x,y)"
   ]
  },
  {
   "cell_type": "code",
   "execution_count": 69,
   "id": "34d31f90",
   "metadata": {},
   "outputs": [],
   "source": [
    "# predict\n",
    "y_pred = lr.predict(x)"
   ]
  },
  {
   "cell_type": "code",
   "execution_count": 70,
   "id": "557c363f",
   "metadata": {},
   "outputs": [
    {
     "data": {
      "image/png": "[encoded data removed]",
      "text/plain": [
       "<Figure size 432x288 with 1 Axes>"
      ]
     },
     "metadata": {
      "needs_background": "light"
     },
     "output_type": "display_data"
    }
   ],
   "source": [
    "# visualisasi prediksi dengan linear regression\n",
    "plt.scatter(x, y, color='blue', label='Data')\n",
    "plt.plot(x, y_pred, color='red', label='Linear Regression')\n",
    "plt.show()"
   ]
  },
  {
   "cell_type": "markdown",
   "id": "f3b027ae",
   "metadata": {},
   "source": [
    "Terlihat model tidak cukup baik dalam melakukan prediksi"
   ]
  },
  {
   "cell_type": "code",
   "execution_count": 73,
   "id": "c715f4df",
   "metadata": {},
   "outputs": [],
   "source": [
    "# import library polynomial\n",
    "from sklearn.preprocessing import PolynomialFeatures"
   ]
  },
  {
   "cell_type": "code",
   "execution_count": 76,
   "id": "7e03acea",
   "metadata": {},
   "outputs": [
    {
     "data": {
      "text/plain": [
       "LinearRegression()"
      ]
     },
     "execution_count": 76,
     "metadata": {},
     "output_type": "execute_result"
    }
   ],
   "source": [
    "# menggunakan polynomial\n",
    "poly_2 = PolynomialFeatures(degree=2)\n",
    "poly_3 = PolynomialFeatures(degree=3)\n",
    "\n",
    "x_poly_2 = poly_2.fit_transform(x)\n",
    "x_poly_3 = poly_3.fit_transform(x)\n",
    "\n",
    "lr2 = LinearRegression()\n",
    "lr3 = LinearRegression()\n",
    "\n",
    "lr2.fit(x_poly_2, y)\n",
    "lr3.fit(x_poly_3, y)"
   ]
  },
  {
   "cell_type": "code",
   "execution_count": 81,
   "id": "18ee6ecc",
   "metadata": {},
   "outputs": [],
   "source": [
    "y_pred_2 = lr2.predict(x_poly_2)\n",
    "y_pred_3 = lr3.predict(x_poly_3)"
   ]
  },
  {
   "cell_type": "code",
   "execution_count": 82,
   "id": "9da9c898",
   "metadata": {
    "scrolled": true
   },
   "outputs": [
    {
     "data": {
      "image/png": "[encoded data removed]",
      "text/plain": [
       "<Figure size 432x288 with 1 Axes>"
      ]
     },
     "metadata": {
      "needs_background": "light"
     },
     "output_type": "display_data"
    }
   ],
   "source": [
    "plt.scatter(x,y,color='blue')\n",
    "plt.plot(x, y_pred,color='red', label='Linear Regression')\n",
    "plt.plot(x, y_pred_2,color='green', label='Polynomial Degree=2')\n",
    "plt.plot(x, y_pred_3,color='yellow', label='Polynomial Degree=3')\n",
    "plt.legend()\n",
    "plt.show()"
   ]
  },
  {
   "cell_type": "markdown",
   "id": "dcf7e041",
   "metadata": {},
   "source": [
    "Terlihat dengan menggunakan polynomial prediksi menjadi lebih akurat"
   ]
  },
  {
   "cell_type": "markdown",
   "id": "89b18da0",
   "metadata": {},
   "source": [
    "## Evaluation"
   ]
  },
  {
   "cell_type": "code",
   "execution_count": 89,
   "id": "8977ac6b",
   "metadata": {},
   "outputs": [
    {
     "data": {
      "text/html": [
       "<div>\n",
       "<style scoped>\n",
       "    .dataframe tbody tr th:only-of-type {\n",
       "        vertical-align: middle;\n",
       "    }\n",
       "\n",
       "    .dataframe tbody tr th {\n",
       "        vertical-align: top;\n",
       "    }\n",
       "\n",
       "    .dataframe thead th {\n",
       "        text-align: right;\n",
       "    }\n",
       "</style>\n",
       "<table border=\"1\" class=\"dataframe\">\n",
       "  <thead>\n",
       "    <tr style=\"text-align: right;\">\n",
       "      <th></th>\n",
       "      <th>MSE</th>\n",
       "      <th>MAE</th>\n",
       "      <th>RMSE</th>\n",
       "    </tr>\n",
       "  </thead>\n",
       "  <tbody>\n",
       "    <tr>\n",
       "      <th>Linear Regression</th>\n",
       "      <td>2.642497e+10</td>\n",
       "      <td>127727.272727</td>\n",
       "      <td>162557.588863</td>\n",
       "    </tr>\n",
       "    <tr>\n",
       "      <th>Polynomial degree 2</th>\n",
       "      <td>6.797621e+09</td>\n",
       "      <td>70812.121212</td>\n",
       "      <td>82447.687731</td>\n",
       "    </tr>\n",
       "    <tr>\n",
       "      <th>Polynomial degree 3</th>\n",
       "      <td>1.613611e+09</td>\n",
       "      <td>35745.920746</td>\n",
       "      <td>40169.773744</td>\n",
       "    </tr>\n",
       "  </tbody>\n",
       "</table>\n",
       "</div>"
      ],
      "text/plain": [
       "                              MSE            MAE           RMSE\n",
       "Linear Regression    2.642497e+10  127727.272727  162557.588863\n",
       "Polynomial degree 2  6.797621e+09   70812.121212   82447.687731\n",
       "Polynomial degree 3  1.613611e+09   35745.920746   40169.773744"
      ]
     },
     "execution_count": 89,
     "metadata": {},
     "output_type": "execute_result"
    }
   ],
   "source": [
    "from sklearn.metrics import mean_absolute_error, mean_squared_error\n",
    "model = ['Linear Regression','Polynomial degree 2','Polynomial degree 3']\n",
    "model_pred = [y_pred,y_pred_2,y_pred_3]\n",
    "mse = []\n",
    "mae = []\n",
    "rmse = []\n",
    "\n",
    "for i in range(len(model)):\n",
    "    mse.append(mean_squared_error(y,model_pred[i]))\n",
    "    mae.append(mean_absolute_error(y,model_pred[i]))\n",
    "    rmse.append(np.sqrt(mean_squared_error(y,model_pred[i])))\n",
    "    \n",
    "pd.DataFrame({\n",
    "    'MSE' : mse,\n",
    "    'MAE' : mae,\n",
    "    'RMSE' : rmse\n",
    "},index=model)"
   ]
  }
 ],
 "metadata": {
  "kernelspec": {
   "display_name": "Python 3 (ipykernel)",
   "language": "python",
   "name": "python3"
  },
  "language_info": {
   "codemirror_mode": {
    "name": "ipython",
    "version": 3
   },
   "file_extension": ".py",
   "mimetype": "text/x-python",
   "name": "python",
   "nbconvert_exporter": "python",
   "pygments_lexer": "ipython3",
   "version": "3.9.7"
  }
 },
 "nbformat": 4,
 "nbformat_minor": 5
}
